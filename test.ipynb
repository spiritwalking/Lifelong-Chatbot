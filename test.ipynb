{
 "cells": [
  {
   "cell_type": "code",
   "execution_count": 1,
   "outputs": [
    {
     "name": "stdout",
     "output_type": "stream",
     "text": [
      "config\t\t  generate_dialogue_subset.py  preprocess.py\t sample\r\n",
      "data\t\t  __init__.py\t\t       __pycache__\t test.ipynb\r\n",
      "data_parallel.py  interact_mmi.py\t       pytorchtools.py\t train.py\r\n",
      "dataset.py\t  interact.py\t\t       README.md\t utils.py\r\n",
      "figure\t\t  model\t\t\t       requirements.txt  vocab\r\n"
     ]
    }
   ],
   "source": [
    "!ls"
   ],
   "metadata": {
    "collapsed": false
   }
  },
  {
   "cell_type": "code",
   "execution_count": 20,
   "outputs": [],
   "source": [
    "with open('data/train.txt', 'r', encoding='utf-8') as f:\n",
    "    data = f.read()\n"
   ],
   "metadata": {
    "collapsed": false
   }
  },
  {
   "cell_type": "code",
   "execution_count": 22,
   "outputs": [
    {
     "data": {
      "text/plain": "'对鸟类有危害就好了。'"
     },
     "execution_count": 22,
     "metadata": {},
     "output_type": "execute_result"
    }
   ],
   "source": [
    "data[-10:]"
   ],
   "metadata": {
    "collapsed": false
   }
  },
  {
   "cell_type": "code",
   "execution_count": 21,
   "outputs": [
    {
     "data": {
      "text/plain": "500000"
     },
     "execution_count": 21,
     "metadata": {},
     "output_type": "execute_result"
    }
   ],
   "source": [
    "train_data = data.split(\"\\n\\n\")\n",
    "len(train_data)"
   ],
   "metadata": {
    "collapsed": false
   }
  },
  {
   "cell_type": "code",
   "execution_count": 73,
   "outputs": [
    {
     "data": {
      "text/plain": "'靳东靳东外科风云来了，爱东，从小事做起\\n岽游记靳东靳东从点点滴滴的小事做起\\n靳东靳东外科风云'"
     },
     "execution_count": 73,
     "metadata": {},
     "output_type": "execute_result"
    }
   ],
   "source": [
    "train_data[90]"
   ],
   "metadata": {
    "collapsed": false
   }
  },
  {
   "cell_type": "code",
   "execution_count": 40,
   "outputs": [
    {
     "data": {
      "text/plain": "(500001, 500001)"
     },
     "execution_count": 40,
     "metadata": {},
     "output_type": "execute_result"
    }
   ],
   "source": [
    "import pickle\n",
    "\n",
    "with open('data/my_train.pkl', \"rb\") as f:\n",
    "    input_list = pickle.load(f)\n",
    "with open('data/train_50w.pkl', \"rb\") as f:\n",
    "    input_list2 = pickle.load(f)\n",
    "\n",
    "len(input_list), len(input_list2)"
   ],
   "metadata": {
    "collapsed": false
   }
  },
  {
   "cell_type": "code",
   "execution_count": 80,
   "outputs": [
    {
     "data": {
      "text/plain": "[101, 102]"
     },
     "execution_count": 80,
     "metadata": {},
     "output_type": "execute_result"
    }
   ],
   "source": [
    "input_list2[-1]\n"
   ],
   "metadata": {
    "collapsed": false
   }
  },
  {
   "cell_type": "code",
   "execution_count": 59,
   "outputs": [
    {
     "data": {
      "text/plain": "[1451,\n 12452,\n 26970,\n 31447,\n 34671,\n 34836,\n 47314,\n 53248,\n 53492,\n 54356,\n 54576,\n 55393,\n 57642,\n 59256,\n 61940,\n 62728,\n 63458,\n 64753,\n 65487,\n 69556,\n 69993,\n 80798,\n 83222,\n 84300,\n 87804,\n 87833,\n 87837,\n 87868,\n 91554,\n 103935,\n 103978,\n 104783,\n 111074,\n 112161,\n 113590,\n 121123,\n 128164,\n 133722,\n 135305,\n 137787,\n 144284,\n 150421,\n 152296,\n 152673,\n 159996,\n 162748,\n 163793,\n 167492,\n 171483,\n 173457,\n 174026,\n 176972,\n 186240,\n 197427,\n 199182,\n 202149,\n 203748,\n 204130,\n 208222,\n 216944,\n 219435,\n 227249,\n 232921,\n 233775,\n 237337,\n 238353,\n 239751,\n 244705,\n 254537,\n 270938,\n 273244,\n 278567,\n 282203,\n 284743,\n 292290,\n 294851,\n 297488,\n 298813,\n 298814,\n 326962,\n 340157,\n 347015,\n 348471,\n 348845,\n 361011,\n 361031,\n 367536,\n 371736,\n 372850,\n 375918,\n 383749,\n 389317,\n 389318,\n 390857,\n 408992,\n 414138,\n 422588,\n 428848,\n 430645,\n 432684,\n 432780,\n 437602,\n 439058,\n 442874,\n 447161,\n 448657,\n 450192,\n 452841,\n 466706,\n 468688,\n 470454,\n 474090,\n 478897,\n 479092,\n 490049,\n 490393]"
     },
     "execution_count": 59,
     "metadata": {},
     "output_type": "execute_result"
    }
   ],
   "source": [
    "cnt = 0\n",
    "idx = []\n",
    "\n",
    "for i,(a,b) in enumerate(zip(input_list,input_list2)):\n",
    "    if a!=b:\n",
    "        idx.append(i)\n",
    "\n",
    "\n",
    "idx"
   ],
   "metadata": {
    "collapsed": false
   }
  },
  {
   "cell_type": "code",
   "execution_count": 56,
   "outputs": [
    {
     "data": {
      "text/plain": "([101,\n  679,\n  1400,\n  2637,\n  4638,\n  6006,\n  4197,\n  2769,\n  679,\n  1762,\n  6956,\n  7339,\n  749,\n  8024,\n  5519,\n  7030,\n  6820,\n  3221,\n  3300,\n  2496,\n  2399,\n  4638,\n  2358,\n  3698,\n  102,\n  8043,\n  6956,\n  7339,\n  8043,\n  102,\n  4,\n  106,\n  102],\n [101,\n  679,\n  1400,\n  2637,\n  4638,\n  6006,\n  4197,\n  2769,\n  679,\n  1762,\n  6956,\n  7339,\n  749,\n  8024,\n  5519,\n  7030,\n  6820,\n  3221,\n  3300,\n  2496,\n  2399,\n  4638,\n  2358,\n  3698,\n  102,\n  8043,\n  6956,\n  7339,\n  8043,\n  102,\n  100,\n  106,\n  102])"
     },
     "execution_count": 56,
     "metadata": {},
     "output_type": "execute_result"
    }
   ],
   "source": [
    "input_list[idx], input_list2[idx]"
   ],
   "metadata": {
    "collapsed": false
   }
  },
  {
   "cell_type": "code",
   "execution_count": null,
   "outputs": [],
   "source": [],
   "metadata": {
    "collapsed": false
   }
  },
  {
   "cell_type": "code",
   "execution_count": 28,
   "outputs": [],
   "source": [
    "from transformers import BertTokenizerFast\n",
    "tokenizer = BertTokenizerFast(vocab_file='vocab/vocab.txt', sep_token=\"[SEP]\", pad_token=\"[PAD]\", cls_token=\"[CLS]\")"
   ],
   "metadata": {
    "collapsed": false
   }
  },
  {
   "cell_type": "code",
   "execution_count": 76,
   "outputs": [
    {
     "data": {
      "text/plain": "'[CLS] 听 不 懂 的 迷 之 世 界 [SEP] 真 杀 马 龙 [SEP] [UNK] 补 [UNK] [UNK] [UNK] 补 怪 [UNK] [SEP] 小 董 [UNK] [UNK] [UNK] [UNK] [UNK] 釋 [UNK] 小 董 [UNK] [UNK] [UNK] [UNK] 釋 [SEP]. 資 料 寫 不 出 心 裏 的 痛. 在 我 的 眼 中 每 個 人 都 戴 着 [SEP] 壹 個 [UNK] 遊 蕩 在 這 饬 城 裏 ， 沒 [UNK] [UNK] 哋 ， 沒 [UNK] 終 [UNK] [SEP] 莪, ， [UNK] [UNK] [UNK] [UNK] 樂 [UNK] [UNK] [UNK] ‘ [SEP] 我 全 部 都 看 得 懂 [SEP] 那 你 真 的 陈 冠 希 [SEP] 这 个 [SEP] 你 不 觉 得 你 的 那 张 很 像 充 气 娃 娃 吗 ？ 我 那 天 不 好 意 思 说 的 就 假 装 说 的 模 特 。 其 实 我 问 的 邓 峰 最 后 一 张 是 充 气 娃 娃 呀 他 说 的 是 你 。 龙 顺 [SEP] 这 就 很 尴 尬 了 看 来 我 没 错 [SEP] 走 了 。 我 要 去 个 我 家 锋 哥 说 情 话 去 了 [SEP] 恶 心 措 不 及 防 [SEP]'"
     },
     "execution_count": 76,
     "metadata": {},
     "output_type": "execute_result"
    }
   ],
   "source": [
    "tokenizer.decode(input_list[idx[34]])"
   ],
   "metadata": {
    "collapsed": false
   }
  },
  {
   "cell_type": "code",
   "execution_count": 77,
   "outputs": [
    {
     "data": {
      "text/plain": "'[CLS] 听 不 懂 的 迷 之 世 界 [SEP] 真 杀 马 龙 [SEP] [UNK] 补 [UNK] [UNK] [UNK] 补 怪 [UNK] [SEP] 小 董 [UNK] [UNK] [UNK] [UNK] [UNK] 釋 [UNK] 小 董 [UNK] [UNK] [UNK] [UNK] 釋 [SEP]. 資 料 寫 不 出 心 裏 的 痛. 在 我 的 眼 中 每 個 人 都 戴 着 [SEP] 壹 個 [UNK] 遊 蕩 在 這 饬 城 裏 ， 沒 [UNK] [UNK] 哋 ， 沒 [UNK] 終 [UNK] [SEP] 莪, ， [UNK] [UNK] [UNK] [UNK] 樂 [UNK] [UNK] [UNK] [UNK] [SEP] 我 全 部 都 看 得 懂 [SEP] 那 你 真 的 陈 冠 希 [SEP] 这 个 [SEP] 你 不 觉 得 你 的 那 张 很 像 充 气 娃 娃 吗 ？ 我 那 天 不 好 意 思 说 的 就 假 装 说 的 模 特 。 其 实 我 问 的 邓 峰 最 后 一 张 是 充 气 娃 娃 呀 他 说 的 是 你 。 龙 顺 [SEP] 这 就 很 尴 尬 了 看 来 我 没 错 [SEP] 走 了 。 我 要 去 个 我 家 锋 哥 说 情 话 去 了 [SEP] 恶 心 措 不 及 防 [SEP]'"
     },
     "execution_count": 77,
     "metadata": {},
     "output_type": "execute_result"
    }
   ],
   "source": [
    "tokenizer.decode(input_list2[idx[34]])"
   ],
   "metadata": {
    "collapsed": false
   }
  },
  {
   "cell_type": "code",
   "execution_count": null,
   "outputs": [],
   "source": [],
   "metadata": {
    "collapsed": false
   }
  }
 ],
 "metadata": {
  "kernelspec": {
   "display_name": "Python 3",
   "language": "python",
   "name": "python3"
  },
  "language_info": {
   "codemirror_mode": {
    "name": "ipython",
    "version": 2
   },
   "file_extension": ".py",
   "mimetype": "text/x-python",
   "name": "python",
   "nbconvert_exporter": "python",
   "pygments_lexer": "ipython2",
   "version": "2.7.6"
  }
 },
 "nbformat": 4,
 "nbformat_minor": 0
}
